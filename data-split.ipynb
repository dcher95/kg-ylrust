{
 "cells": [
  {
   "cell_type": "code",
   "execution_count": 10,
   "metadata": {},
   "outputs": [
    {
     "data": {
      "text/html": [
       "\n",
       "                <script type=\"application/javascript\" id=\"jupyter_black\">\n",
       "                (function() {\n",
       "                    if (window.IPython === undefined) {\n",
       "                        return\n",
       "                    }\n",
       "                    var msg = \"WARNING: it looks like you might have loaded \" +\n",
       "                        \"jupyter_black in a non-lab notebook with \" +\n",
       "                        \"`is_lab=True`. Please double check, and if \" +\n",
       "                        \"loading with `%load_ext` please review the README!\"\n",
       "                    console.log(msg)\n",
       "                    alert(msg)\n",
       "                })()\n",
       "                </script>\n",
       "                "
      ],
      "text/plain": [
       "<IPython.core.display.HTML object>"
      ]
     },
     "metadata": {},
     "output_type": "display_data"
    }
   ],
   "source": [
    "%load_ext jupyter_black"
   ]
  },
  {
   "cell_type": "code",
   "execution_count": 11,
   "metadata": {},
   "outputs": [],
   "source": [
    "%load_ext autoreload\n",
    "%autoreload 2"
   ]
  },
  {
   "cell_type": "markdown",
   "metadata": {},
   "source": [
    "# Split into training, validation and testing\n",
    "- partition by geography"
   ]
  },
  {
   "cell_type": "code",
   "execution_count": 12,
   "metadata": {},
   "outputs": [],
   "source": [
    "from src.utils import (\n",
    "    count_subfolders,\n",
    "    create_crop_classification_df,\n",
    "    find_duplicate_plot_ids,\n",
    "    stratified_partition,\n",
    "    move_files,\n",
    "    remove_empty_folders,\n",
    ")\n",
    "import pandas as pd"
   ]
  },
  {
   "cell_type": "code",
   "execution_count": 159,
   "metadata": {},
   "outputs": [
    {
     "data": {
      "text/html": [
       "<div>\n",
       "<style scoped>\n",
       "    .dataframe tbody tr th:only-of-type {\n",
       "        vertical-align: middle;\n",
       "    }\n",
       "\n",
       "    .dataframe tbody tr th {\n",
       "        vertical-align: top;\n",
       "    }\n",
       "\n",
       "    .dataframe thead th {\n",
       "        text-align: right;\n",
       "    }\n",
       "</style>\n",
       "<table border=\"1\" class=\"dataframe\">\n",
       "  <thead>\n",
       "    <tr style=\"text-align: right;\">\n",
       "      <th></th>\n",
       "      <th>Grain</th>\n",
       "      <th>Number of Plots</th>\n",
       "      <th>Number of Photos</th>\n",
       "    </tr>\n",
       "  </thead>\n",
       "  <tbody>\n",
       "    <tr>\n",
       "      <th>0</th>\n",
       "      <td>Maize</td>\n",
       "      <td>163</td>\n",
       "      <td>715</td>\n",
       "    </tr>\n",
       "    <tr>\n",
       "      <th>1</th>\n",
       "      <td>Rice</td>\n",
       "      <td>196</td>\n",
       "      <td>880</td>\n",
       "    </tr>\n",
       "    <tr>\n",
       "      <th>2</th>\n",
       "      <td>Soybean</td>\n",
       "      <td>233</td>\n",
       "      <td>1065</td>\n",
       "    </tr>\n",
       "    <tr>\n",
       "      <th>3</th>\n",
       "      <td>Wheat</td>\n",
       "      <td>140</td>\n",
       "      <td>600</td>\n",
       "    </tr>\n",
       "  </tbody>\n",
       "</table>\n",
       "</div>"
      ],
      "text/plain": [
       "     Grain  Number of Plots  Number of Photos\n",
       "0    Maize              163               715\n",
       "1     Rice              196               880\n",
       "2  Soybean              233              1065\n",
       "3    Wheat              140               600"
      ]
     },
     "execution_count": 159,
     "metadata": {},
     "output_type": "execute_result"
    }
   ],
   "source": [
    "# how many images in each crop type in training?\n",
    "base_path = (\n",
    "    \"/workspaces/kg-ylrust/data/input/beyond-visible-spectrum-ai-for-agriculture-2023-p2/share/train/\"\n",
    ")\n",
    "maize_path = f\"{base_path}maize\"\n",
    "rice_path = f\"{base_path}rice\"\n",
    "soybean_path = f\"{base_path}soybean\"\n",
    "wheat_path = f\"{base_path}wheat\"\n",
    "\n",
    "# Count plots\n",
    "maize_plots = count_subfolders(maize_path)\n",
    "rice_plots = count_subfolders(rice_path)\n",
    "soybean_plots = count_subfolders(soybean_path)\n",
    "wheat_plots = count_subfolders(wheat_path)\n",
    "\n",
    "# Count photos (assuming photos are in subfolders of plots)\n",
    "maize_photos = count_subfolders(maize_path, depth=2)\n",
    "rice_photos = count_subfolders(rice_path, depth=2)\n",
    "soybean_photos = count_subfolders(soybean_path, depth=2)\n",
    "wheat_photos = count_subfolders(wheat_path, depth=2)\n",
    "\n",
    "# Create DataFrame\n",
    "data = {\n",
    "    \"Grain\": [\"Maize\", \"Rice\", \"Soybean\", \"Wheat\"],\n",
    "    \"Number of Plots\": [maize_plots, rice_plots, soybean_plots, wheat_plots],\n",
    "    \"Number of Photos\": [maize_photos, rice_photos, soybean_photos, wheat_photos],\n",
    "}\n",
    "\n",
    "pd.DataFrame(data)"
   ]
  },
  {
   "cell_type": "code",
   "execution_count": 23,
   "metadata": {},
   "outputs": [],
   "source": [
    "df = create_crop_classification_df(\n",
    "    \"/workspaces/kg-ylrust/data/input/beyond-visible-spectrum-ai-for-agriculture-2023-p2/share/train\"\n",
    ")"
   ]
  },
  {
   "cell_type": "code",
   "execution_count": 24,
   "metadata": {},
   "outputs": [
    {
     "name": "stdout",
     "output_type": "stream",
     "text": [
      "No Plot IDs found in multiple crops.\n"
     ]
    }
   ],
   "source": [
    "# Any plots have multiple crops classified?\n",
    "find_duplicate_plot_ids(df)"
   ]
  },
  {
   "cell_type": "code",
   "execution_count": 25,
   "metadata": {},
   "outputs": [],
   "source": [
    "# randomly split by location.\n",
    "train_df, val_df, holdout_df = stratified_partition(\n",
    "    df, id_col=\"Plot ID\", train_size=0.6, val_size=0.2, holdout_size=0.2\n",
    ")"
   ]
  },
  {
   "cell_type": "code",
   "execution_count": 38,
   "metadata": {},
   "outputs": [],
   "source": [
    "# Does not work again as files have been moved (until re-downloaded from beginning)\n",
    "holdout_df = move_files(\n",
    "    holdout_df,\n",
    "    new_base_path=\"/workspaces/kg-ylrust/data/input/beyond-visible-spectrum-ai-for-agriculture-2023-p2/share/holdout\",\n",
    "    split = 'Holdout'\n",
    ")\n",
    "\n",
    "val_df = move_files(\n",
    "    holdout_df,\n",
    "    split=\"Validation\",\n",
    ")"
   ]
  },
  {
   "cell_type": "code",
   "execution_count": 41,
   "metadata": {},
   "outputs": [
    {
     "name": "stdout",
     "output_type": "stream",
     "text": [
      "Removed empty directory: ./data/input/beyond-visible-spectrum-ai-for-agriculture-2023-p2/share/train/soybean/000919\n",
      "Removed empty directory: ./data/input/beyond-visible-spectrum-ai-for-agriculture-2023-p2/share/train/soybean/001050\n",
      "Removed empty directory: ./data/input/beyond-visible-spectrum-ai-for-agriculture-2023-p2/share/train/soybean/001057\n",
      "Removed empty directory: ./data/input/beyond-visible-spectrum-ai-for-agriculture-2023-p2/share/train/soybean/000929\n",
      "Removed empty directory: ./data/input/beyond-visible-spectrum-ai-for-agriculture-2023-p2/share/train/soybean/000945\n",
      "Removed empty directory: ./data/input/beyond-visible-spectrum-ai-for-agriculture-2023-p2/share/train/soybean/001115\n",
      "Removed empty directory: ./data/input/beyond-visible-spectrum-ai-for-agriculture-2023-p2/share/train/soybean/001177\n",
      "Removed empty directory: ./data/input/beyond-visible-spectrum-ai-for-agriculture-2023-p2/share/train/soybean/001146\n",
      "Removed empty directory: ./data/input/beyond-visible-spectrum-ai-for-agriculture-2023-p2/share/train/soybean/001153\n",
      "Removed empty directory: ./data/input/beyond-visible-spectrum-ai-for-agriculture-2023-p2/share/train/soybean/001191\n",
      "Removed empty directory: ./data/input/beyond-visible-spectrum-ai-for-agriculture-2023-p2/share/train/soybean/001165\n",
      "Removed empty directory: ./data/input/beyond-visible-spectrum-ai-for-agriculture-2023-p2/share/train/soybean/001100\n",
      "Removed empty directory: ./data/input/beyond-visible-spectrum-ai-for-agriculture-2023-p2/share/train/soybean/001073\n",
      "Removed empty directory: ./data/input/beyond-visible-spectrum-ai-for-agriculture-2023-p2/share/train/soybean/001074\n",
      "Removed empty directory: ./data/input/beyond-visible-spectrum-ai-for-agriculture-2023-p2/share/train/soybean/000902\n",
      "Removed empty directory: ./data/input/beyond-visible-spectrum-ai-for-agriculture-2023-p2/share/train/soybean/000961\n",
      "Removed empty directory: ./data/input/beyond-visible-spectrum-ai-for-agriculture-2023-p2/share/train/soybean/001019\n",
      "Removed empty directory: ./data/input/beyond-visible-spectrum-ai-for-agriculture-2023-p2/share/train/soybean/000985\n",
      "Removed empty directory: ./data/input/beyond-visible-spectrum-ai-for-agriculture-2023-p2/share/train/soybean/000922\n",
      "Removed empty directory: ./data/input/beyond-visible-spectrum-ai-for-agriculture-2023-p2/share/train/soybean/001000\n",
      "Removed empty directory: ./data/input/beyond-visible-spectrum-ai-for-agriculture-2023-p2/share/train/soybean/001031\n",
      "Removed empty directory: ./data/input/beyond-visible-spectrum-ai-for-agriculture-2023-p2/share/train/soybean/000983\n",
      "Removed empty directory: ./data/input/beyond-visible-spectrum-ai-for-agriculture-2023-p2/share/train/soybean/000946\n",
      "Removed empty directory: ./data/input/beyond-visible-spectrum-ai-for-agriculture-2023-p2/share/train/soybean/001064\n",
      "Removed empty directory: ./data/input/beyond-visible-spectrum-ai-for-agriculture-2023-p2/share/train/soybean/001180\n",
      "Removed empty directory: ./data/input/beyond-visible-spectrum-ai-for-agriculture-2023-p2/share/train/soybean/001174\n",
      "Removed empty directory: ./data/input/beyond-visible-spectrum-ai-for-agriculture-2023-p2/share/train/soybean/001145\n",
      "Removed empty directory: ./data/input/beyond-visible-spectrum-ai-for-agriculture-2023-p2/share/train/soybean/001142\n",
      "Removed empty directory: ./data/input/beyond-visible-spectrum-ai-for-agriculture-2023-p2/share/train/soybean/001188\n",
      "Removed empty directory: ./data/input/beyond-visible-spectrum-ai-for-agriculture-2023-p2/share/train/soybean/001161\n",
      "Removed empty directory: ./data/input/beyond-visible-spectrum-ai-for-agriculture-2023-p2/share/train/soybean/001024\n",
      "Removed empty directory: ./data/input/beyond-visible-spectrum-ai-for-agriculture-2023-p2/share/train/soybean/000997\n",
      "Removed empty directory: ./data/input/beyond-visible-spectrum-ai-for-agriculture-2023-p2/share/train/soybean/001070\n",
      "Removed empty directory: ./data/input/beyond-visible-spectrum-ai-for-agriculture-2023-p2/share/train/soybean/000954\n",
      "Removed empty directory: ./data/input/beyond-visible-spectrum-ai-for-agriculture-2023-p2/share/train/soybean/001076\n",
      "Removed empty directory: ./data/input/beyond-visible-spectrum-ai-for-agriculture-2023-p2/share/train/rice/000716\n",
      "Removed empty directory: ./data/input/beyond-visible-spectrum-ai-for-agriculture-2023-p2/share/train/rice/000772\n",
      "Removed empty directory: ./data/input/beyond-visible-spectrum-ai-for-agriculture-2023-p2/share/train/rice/000728\n",
      "Removed empty directory: ./data/input/beyond-visible-spectrum-ai-for-agriculture-2023-p2/share/train/rice/000653\n",
      "Removed empty directory: ./data/input/beyond-visible-spectrum-ai-for-agriculture-2023-p2/share/train/rice/000806\n",
      "Removed empty directory: ./data/input/beyond-visible-spectrum-ai-for-agriculture-2023-p2/share/train/rice/000698\n",
      "Removed empty directory: ./data/input/beyond-visible-spectrum-ai-for-agriculture-2023-p2/share/train/rice/000654\n",
      "Removed empty directory: ./data/input/beyond-visible-spectrum-ai-for-agriculture-2023-p2/share/train/rice/000801\n",
      "Removed empty directory: ./data/input/beyond-visible-spectrum-ai-for-agriculture-2023-p2/share/train/rice/000864\n",
      "Removed empty directory: ./data/input/beyond-visible-spectrum-ai-for-agriculture-2023-p2/share/train/rice/000637\n",
      "Removed empty directory: ./data/input/beyond-visible-spectrum-ai-for-agriculture-2023-p2/share/train/rice/000878\n",
      "Removed empty directory: ./data/input/beyond-visible-spectrum-ai-for-agriculture-2023-p2/share/train/rice/000822\n",
      "Removed empty directory: ./data/input/beyond-visible-spectrum-ai-for-agriculture-2023-p2/share/train/rice/000683\n",
      "Removed empty directory: ./data/input/beyond-visible-spectrum-ai-for-agriculture-2023-p2/share/train/rice/000792\n",
      "Removed empty directory: ./data/input/beyond-visible-spectrum-ai-for-agriculture-2023-p2/share/train/rice/000756\n",
      "Removed empty directory: ./data/input/beyond-visible-spectrum-ai-for-agriculture-2023-p2/share/train/rice/000715\n",
      "Removed empty directory: ./data/input/beyond-visible-spectrum-ai-for-agriculture-2023-p2/share/train/rice/000783\n",
      "Removed empty directory: ./data/input/beyond-visible-spectrum-ai-for-agriculture-2023-p2/share/train/rice/000770\n",
      "Removed empty directory: ./data/input/beyond-visible-spectrum-ai-for-agriculture-2023-p2/share/train/rice/000725\n",
      "Removed empty directory: ./data/input/beyond-visible-spectrum-ai-for-agriculture-2023-p2/share/train/rice/000740\n",
      "Removed empty directory: ./data/input/beyond-visible-spectrum-ai-for-agriculture-2023-p2/share/train/rice/000868\n",
      "Removed empty directory: ./data/input/beyond-visible-spectrum-ai-for-agriculture-2023-p2/share/train/rice/000828\n",
      "Removed empty directory: ./data/input/beyond-visible-spectrum-ai-for-agriculture-2023-p2/share/train/rice/000872\n",
      "Removed empty directory: ./data/input/beyond-visible-spectrum-ai-for-agriculture-2023-p2/share/train/rice/000820\n",
      "Removed empty directory: ./data/input/beyond-visible-spectrum-ai-for-agriculture-2023-p2/share/train/rice/000675\n",
      "Removed empty directory: ./data/input/beyond-visible-spectrum-ai-for-agriculture-2023-p2/share/train/rice/000688\n",
      "Removed empty directory: ./data/input/beyond-visible-spectrum-ai-for-agriculture-2023-p2/share/train/rice/000731\n",
      "Removed empty directory: ./data/input/beyond-visible-spectrum-ai-for-agriculture-2023-p2/share/train/rice/000763\n",
      "Removed empty directory: ./data/input/beyond-visible-spectrum-ai-for-agriculture-2023-p2/share/train/rice/000799\n",
      "Removed empty directory: ./data/input/beyond-visible-spectrum-ai-for-agriculture-2023-p2/share/train/rice/000706\n",
      "Removed empty directory: ./data/input/beyond-visible-spectrum-ai-for-agriculture-2023-p2/share/train/rice/000739\n",
      "Removed empty directory: ./data/input/beyond-visible-spectrum-ai-for-agriculture-2023-p2/share/train/wheat/000171\n",
      "Removed empty directory: ./data/input/beyond-visible-spectrum-ai-for-agriculture-2023-p2/share/train/wheat/000184\n",
      "Removed empty directory: ./data/input/beyond-visible-spectrum-ai-for-agriculture-2023-p2/share/train/wheat/000051\n",
      "Removed empty directory: ./data/input/beyond-visible-spectrum-ai-for-agriculture-2023-p2/share/train/wheat/000061\n",
      "Removed empty directory: ./data/input/beyond-visible-spectrum-ai-for-agriculture-2023-p2/share/train/wheat/000240\n",
      "Removed empty directory: ./data/input/beyond-visible-spectrum-ai-for-agriculture-2023-p2/share/train/wheat/000044\n",
      "Removed empty directory: ./data/input/beyond-visible-spectrum-ai-for-agriculture-2023-p2/share/train/wheat/000225\n",
      "Removed empty directory: ./data/input/beyond-visible-spectrum-ai-for-agriculture-2023-p2/share/train/wheat/000019\n",
      "Removed empty directory: ./data/input/beyond-visible-spectrum-ai-for-agriculture-2023-p2/share/train/wheat/000026\n",
      "Removed empty directory: ./data/input/beyond-visible-spectrum-ai-for-agriculture-2023-p2/share/train/wheat/000089\n",
      "Removed empty directory: ./data/input/beyond-visible-spectrum-ai-for-agriculture-2023-p2/share/train/wheat/000045\n",
      "Removed empty directory: ./data/input/beyond-visible-spectrum-ai-for-agriculture-2023-p2/share/train/wheat/000108\n",
      "Removed empty directory: ./data/input/beyond-visible-spectrum-ai-for-agriculture-2023-p2/share/train/wheat/000109\n",
      "Removed empty directory: ./data/input/beyond-visible-spectrum-ai-for-agriculture-2023-p2/share/train/wheat/000119\n",
      "Removed empty directory: ./data/input/beyond-visible-spectrum-ai-for-agriculture-2023-p2/share/train/wheat/000117\n",
      "Removed empty directory: ./data/input/beyond-visible-spectrum-ai-for-agriculture-2023-p2/share/train/wheat/000187\n",
      "Removed empty directory: ./data/input/beyond-visible-spectrum-ai-for-agriculture-2023-p2/share/train/wheat/000233\n",
      "Removed empty directory: ./data/input/beyond-visible-spectrum-ai-for-agriculture-2023-p2/share/train/wheat/000257\n",
      "Removed empty directory: ./data/input/beyond-visible-spectrum-ai-for-agriculture-2023-p2/share/train/wheat/000053\n",
      "Removed empty directory: ./data/input/beyond-visible-spectrum-ai-for-agriculture-2023-p2/share/train/wheat/000204\n",
      "Removed empty directory: ./data/input/beyond-visible-spectrum-ai-for-agriculture-2023-p2/share/train/wheat/000009\n",
      "Removed empty directory: ./data/input/beyond-visible-spectrum-ai-for-agriculture-2023-p2/share/train/wheat/000226\n",
      "Removed empty directory: ./data/input/beyond-visible-spectrum-ai-for-agriculture-2023-p2/share/train/wheat/000244\n",
      "Removed empty directory: ./data/input/beyond-visible-spectrum-ai-for-agriculture-2023-p2/share/train/wheat/000272\n",
      "Removed empty directory: ./data/input/beyond-visible-spectrum-ai-for-agriculture-2023-p2/share/train/wheat/000023\n",
      "Removed empty directory: ./data/input/beyond-visible-spectrum-ai-for-agriculture-2023-p2/share/train/wheat/000156\n",
      "Removed empty directory: ./data/input/beyond-visible-spectrum-ai-for-agriculture-2023-p2/share/train/maize/000328\n",
      "Removed empty directory: ./data/input/beyond-visible-spectrum-ai-for-agriculture-2023-p2/share/train/maize/000310\n",
      "Removed empty directory: ./data/input/beyond-visible-spectrum-ai-for-agriculture-2023-p2/share/train/maize/000403\n",
      "Removed empty directory: ./data/input/beyond-visible-spectrum-ai-for-agriculture-2023-p2/share/train/maize/000458\n",
      "Removed empty directory: ./data/input/beyond-visible-spectrum-ai-for-agriculture-2023-p2/share/train/maize/000420\n",
      "Removed empty directory: ./data/input/beyond-visible-spectrum-ai-for-agriculture-2023-p2/share/train/maize/000445\n",
      "Removed empty directory: ./data/input/beyond-visible-spectrum-ai-for-agriculture-2023-p2/share/train/maize/000486\n",
      "Removed empty directory: ./data/input/beyond-visible-spectrum-ai-for-agriculture-2023-p2/share/train/maize/000596\n",
      "Removed empty directory: ./data/input/beyond-visible-spectrum-ai-for-agriculture-2023-p2/share/train/maize/000302\n",
      "Removed empty directory: ./data/input/beyond-visible-spectrum-ai-for-agriculture-2023-p2/share/train/maize/000366\n",
      "Removed empty directory: ./data/input/beyond-visible-spectrum-ai-for-agriculture-2023-p2/share/train/maize/000314\n",
      "Removed empty directory: ./data/input/beyond-visible-spectrum-ai-for-agriculture-2023-p2/share/train/maize/000322\n",
      "Removed empty directory: ./data/input/beyond-visible-spectrum-ai-for-agriculture-2023-p2/share/train/maize/000379\n",
      "Removed empty directory: ./data/input/beyond-visible-spectrum-ai-for-agriculture-2023-p2/share/train/maize/000346\n",
      "Removed empty directory: ./data/input/beyond-visible-spectrum-ai-for-agriculture-2023-p2/share/train/maize/000465\n",
      "Removed empty directory: ./data/input/beyond-visible-spectrum-ai-for-agriculture-2023-p2/share/train/maize/000401\n",
      "Removed empty directory: ./data/input/beyond-visible-spectrum-ai-for-agriculture-2023-p2/share/train/maize/000452\n",
      "Removed empty directory: ./data/input/beyond-visible-spectrum-ai-for-agriculture-2023-p2/share/train/maize/000477\n",
      "Removed empty directory: ./data/input/beyond-visible-spectrum-ai-for-agriculture-2023-p2/share/train/maize/000484\n",
      "Removed empty directory: ./data/input/beyond-visible-spectrum-ai-for-agriculture-2023-p2/share/train/maize/000440\n",
      "Removed empty directory: ./data/input/beyond-visible-spectrum-ai-for-agriculture-2023-p2/share/train/maize/000449\n",
      "Removed empty directory: ./data/input/beyond-visible-spectrum-ai-for-agriculture-2023-p2/share/train/maize/000425\n",
      "Removed empty directory: ./data/input/beyond-visible-spectrum-ai-for-agriculture-2023-p2/share/train/maize/000550\n",
      "Removed empty directory: ./data/input/beyond-visible-spectrum-ai-for-agriculture-2023-p2/share/train/maize/000532\n",
      "Removed empty directory: ./data/input/beyond-visible-spectrum-ai-for-agriculture-2023-p2/share/train/maize/000533\n",
      "Removed empty directory: ./data/input/beyond-visible-spectrum-ai-for-agriculture-2023-p2/share/train/maize/000362\n"
     ]
    }
   ],
   "source": [
    "# remove empty folders\n",
    "remove_empty_folders(\n",
    "    \"/workspaces/kg-ylrust/data/input/beyond-visible-spectrum-ai-for-agriculture-2023-p2/share/train\"\n",
    ")"
   ]
  },
  {
   "cell_type": "code",
   "execution_count": 78,
   "metadata": {},
   "outputs": [],
   "source": [
    "# For some reason an extra 6 files are created in the df above. Just re-create.\n",
    "train_df = create_crop_classification_df(\n",
    "    \"/workspaces/kg-ylrust/data/input/beyond-visible-spectrum-ai-for-agriculture-2023-p2/share/train\"\n",
    ")"
   ]
  },
  {
   "cell_type": "code",
   "execution_count": 84,
   "metadata": {},
   "outputs": [],
   "source": [
    "# output file with all relevant data info\n",
    "data_df = pd.concat([train_df, val_df, holdout_df], ignore_index=True)\n",
    "data_df.to_csv(\n",
    "    \"/workspaces/kg-ylrust/data/input/beyond-visible-spectrum-ai-for-agriculture-2023-p2/data_info.csv\",\n",
    "    header=True,\n",
    ")"
   ]
  },
  {
   "cell_type": "code",
   "execution_count": 94,
   "metadata": {},
   "outputs": [],
   "source": [
    "# Now there should be ~60% in training, ~20% in validation, and ~20% in holdout.\n",
    "base_path = (\n",
    "    \"/workspaces/kg-ylrust/data/input/beyond-visible-spectrum-ai-for-agriculture-2023-p2/share/train/\"\n",
    ")\n",
    "maize_path = f\"{base_path}maize\"\n",
    "rice_path = f\"{base_path}rice\"\n",
    "soybean_path = f\"{base_path}soybean\"\n",
    "wheat_path = f\"{base_path}wheat\"\n",
    "\n",
    "# Count plots\n",
    "maize_plots = count_subfolders(maize_path)\n",
    "rice_plots = count_subfolders(rice_path)\n",
    "soybean_plots = count_subfolders(soybean_path)\n",
    "wheat_plots = count_subfolders(wheat_path)\n",
    "\n",
    "# Count photos (assuming photos are in subfolders of plots)\n",
    "maize_photos = count_subfolders(maize_path, depth=2)\n",
    "rice_photos = count_subfolders(rice_path, depth=2)\n",
    "soybean_photos = count_subfolders(soybean_path, depth=2)\n",
    "wheat_photos = count_subfolders(wheat_path, depth=2)\n",
    "\n",
    "# Create DataFrame\n",
    "train_info = pd.DataFrame(\n",
    "    {\n",
    "        \"Grain\": [\"Maize\", \"Rice\", \"Soybean\", \"Wheat\"],\n",
    "        \"Number of Plots\": [maize_plots, rice_plots, soybean_plots, wheat_plots],\n",
    "        \"Number of Photos\": [maize_photos, rice_photos, soybean_photos, wheat_photos],\n",
    "    }\n",
    ")"
   ]
  },
  {
   "cell_type": "code",
   "execution_count": 95,
   "metadata": {},
   "outputs": [],
   "source": [
    "# Now there should be ~60% in training, ~20% in validation, and ~20% in holdout.\n",
    "base_path = (\n",
    "    \"./data/input/beyond-visible-spectrum-ai-for-agriculture-2023-p2/share/validation/\"\n",
    ")\n",
    "maize_path = f\"{base_path}maize\"\n",
    "rice_path = f\"{base_path}rice\"\n",
    "soybean_path = f\"{base_path}soybean\"\n",
    "wheat_path = f\"{base_path}wheat\"\n",
    "\n",
    "# Count plots\n",
    "maize_plots = count_subfolders(maize_path)\n",
    "rice_plots = count_subfolders(rice_path)\n",
    "soybean_plots = count_subfolders(soybean_path)\n",
    "wheat_plots = count_subfolders(wheat_path)\n",
    "\n",
    "# Count photos (assuming photos are in subfolders of plots)\n",
    "maize_photos = count_subfolders(maize_path, depth=2)\n",
    "rice_photos = count_subfolders(rice_path, depth=2)\n",
    "soybean_photos = count_subfolders(soybean_path, depth=2)\n",
    "wheat_photos = count_subfolders(wheat_path, depth=2)\n",
    "\n",
    "# Create DataFrame\n",
    "validation_info = pd.DataFrame(\n",
    "    {\n",
    "        \"Grain\": [\"Maize\", \"Rice\", \"Soybean\", \"Wheat\"],\n",
    "        \"Number of Plots\": [maize_plots, rice_plots, soybean_plots, wheat_plots],\n",
    "        \"Number of Photos\": [maize_photos, rice_photos, soybean_photos, wheat_photos],\n",
    "    }\n",
    ")"
   ]
  },
  {
   "cell_type": "code",
   "execution_count": 97,
   "metadata": {},
   "outputs": [
    {
     "data": {
      "text/html": [
       "<div>\n",
       "<style scoped>\n",
       "    .dataframe tbody tr th:only-of-type {\n",
       "        vertical-align: middle;\n",
       "    }\n",
       "\n",
       "    .dataframe tbody tr th {\n",
       "        vertical-align: top;\n",
       "    }\n",
       "\n",
       "    .dataframe thead th {\n",
       "        text-align: right;\n",
       "    }\n",
       "</style>\n",
       "<table border=\"1\" class=\"dataframe\">\n",
       "  <thead>\n",
       "    <tr style=\"text-align: right;\">\n",
       "      <th></th>\n",
       "      <th>Grain</th>\n",
       "      <th>Number of Plots</th>\n",
       "      <th>Number of Photos</th>\n",
       "    </tr>\n",
       "  </thead>\n",
       "  <tbody>\n",
       "    <tr>\n",
       "      <th>0</th>\n",
       "      <td>Maize</td>\n",
       "      <td>105</td>\n",
       "      <td>455</td>\n",
       "    </tr>\n",
       "    <tr>\n",
       "      <th>1</th>\n",
       "      <td>Rice</td>\n",
       "      <td>126</td>\n",
       "      <td>566</td>\n",
       "    </tr>\n",
       "    <tr>\n",
       "      <th>2</th>\n",
       "      <td>Soybean</td>\n",
       "      <td>152</td>\n",
       "      <td>704</td>\n",
       "    </tr>\n",
       "    <tr>\n",
       "      <th>3</th>\n",
       "      <td>Wheat</td>\n",
       "      <td>86</td>\n",
       "      <td>378</td>\n",
       "    </tr>\n",
       "  </tbody>\n",
       "</table>\n",
       "</div>"
      ],
      "text/plain": [
       "     Grain  Number of Plots  Number of Photos\n",
       "0    Maize              105               455\n",
       "1     Rice              126               566\n",
       "2  Soybean              152               704\n",
       "3    Wheat               86               378"
      ]
     },
     "execution_count": 97,
     "metadata": {},
     "output_type": "execute_result"
    }
   ],
   "source": [
    "train_info"
   ]
  },
  {
   "cell_type": "code",
   "execution_count": 98,
   "metadata": {},
   "outputs": [
    {
     "data": {
      "text/html": [
       "<div>\n",
       "<style scoped>\n",
       "    .dataframe tbody tr th:only-of-type {\n",
       "        vertical-align: middle;\n",
       "    }\n",
       "\n",
       "    .dataframe tbody tr th {\n",
       "        vertical-align: top;\n",
       "    }\n",
       "\n",
       "    .dataframe thead th {\n",
       "        text-align: right;\n",
       "    }\n",
       "</style>\n",
       "<table border=\"1\" class=\"dataframe\">\n",
       "  <thead>\n",
       "    <tr style=\"text-align: right;\">\n",
       "      <th></th>\n",
       "      <th>Grain</th>\n",
       "      <th>Number of Plots</th>\n",
       "      <th>Number of Photos</th>\n",
       "    </tr>\n",
       "  </thead>\n",
       "  <tbody>\n",
       "    <tr>\n",
       "      <th>0</th>\n",
       "      <td>Maize</td>\n",
       "      <td>26</td>\n",
       "      <td>115</td>\n",
       "    </tr>\n",
       "    <tr>\n",
       "      <th>1</th>\n",
       "      <td>Rice</td>\n",
       "      <td>31</td>\n",
       "      <td>141</td>\n",
       "    </tr>\n",
       "    <tr>\n",
       "      <th>2</th>\n",
       "      <td>Soybean</td>\n",
       "      <td>35</td>\n",
       "      <td>159</td>\n",
       "    </tr>\n",
       "    <tr>\n",
       "      <th>3</th>\n",
       "      <td>Wheat</td>\n",
       "      <td>26</td>\n",
       "      <td>108</td>\n",
       "    </tr>\n",
       "  </tbody>\n",
       "</table>\n",
       "</div>"
      ],
      "text/plain": [
       "     Grain  Number of Plots  Number of Photos\n",
       "0    Maize               26               115\n",
       "1     Rice               31               141\n",
       "2  Soybean               35               159\n",
       "3    Wheat               26               108"
      ]
     },
     "execution_count": 98,
     "metadata": {},
     "output_type": "execute_result"
    }
   ],
   "source": [
    "validation_info"
   ]
  },
  {
   "cell_type": "code",
   "execution_count": 89,
   "metadata": {},
   "outputs": [
    {
     "data": {
      "text/plain": [
       "489"
      ]
     },
     "execution_count": 89,
     "metadata": {},
     "output_type": "execute_result"
    }
   ],
   "source": [
    "# The other photos should be in holdout\n",
    "holdout_path = (\n",
    "    \"/workspaces/kg-ylrust/data/input/beyond-visible-spectrum-ai-for-agriculture-2023-p2/share/holdout/\"\n",
    ")\n",
    "count_subfolders(holdout_path)"
   ]
  },
  {
   "cell_type": "code",
   "execution_count": 100,
   "metadata": {},
   "outputs": [
    {
     "data": {
      "text/plain": [
       "3260"
      ]
     },
     "execution_count": 100,
     "metadata": {},
     "output_type": "execute_result"
    }
   ],
   "source": [
    "# Originally\n",
    "715 + 880 + 1065 + 600"
   ]
  },
  {
   "cell_type": "code",
   "execution_count": 99,
   "metadata": {},
   "outputs": [
    {
     "data": {
      "text/plain": [
       "3115"
      ]
     },
     "execution_count": 99,
     "metadata": {},
     "output_type": "execute_result"
    }
   ],
   "source": [
    "(\n",
    "    train_info[\"Number of Photos\"].sum()\n",
    "    + validation_info[\"Number of Photos\"].sum()\n",
    "    + count_subfolders(holdout_path)\n",
    ")"
   ]
  },
  {
   "cell_type": "markdown",
   "metadata": {},
   "source": [
    "Some data is going missing somewhere -- but let's revisit this later."
   ]
  }
 ],
 "metadata": {
  "kernelspec": {
   "display_name": "base",
   "language": "python",
   "name": "python3"
  },
  "language_info": {
   "codemirror_mode": {
    "name": "ipython",
    "version": 3
   },
   "file_extension": ".py",
   "mimetype": "text/x-python",
   "name": "python",
   "nbconvert_exporter": "python",
   "pygments_lexer": "ipython3",
   "version": "3.10.13"
  }
 },
 "nbformat": 4,
 "nbformat_minor": 2
}
