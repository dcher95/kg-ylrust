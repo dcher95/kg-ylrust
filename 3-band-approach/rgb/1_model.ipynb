{
 "cells": [
  {
   "cell_type": "code",
   "execution_count": 1,
   "metadata": {},
   "outputs": [],
   "source": [
    "# %load_ext jupyter_black\n",
    "# %load_ext autoreload\n",
    "# %autoreload 2"
   ]
  },
  {
   "cell_type": "code",
   "execution_count": 2,
   "metadata": {},
   "outputs": [],
   "source": [
    "import torch\n",
    "from torch.utils.data import DataLoader\n",
    "import torchvision\n",
    "from torchvision import datasets, transforms\n",
    "from torch.utils.data import DataLoader\n",
    "\n",
    "from torchinfo import summary\n",
    "\n",
    "import constants\n",
    "import sys"
   ]
  },
  {
   "cell_type": "code",
   "execution_count": 3,
   "metadata": {},
   "outputs": [
    {
     "ename": "",
     "evalue": "",
     "output_type": "error",
     "traceback": [
      "\u001b[1;31mThe Kernel crashed while executing code in the current cell or a previous cell. \n",
      "\u001b[1;31mPlease review the code in the cell(s) to identify a possible cause of the failure. \n",
      "\u001b[1;31mClick <a href='https://aka.ms/vscodeJupyterKernelCrash'>here</a> for more info. \n",
      "\u001b[1;31mView Jupyter <a href='command:jupyter.viewOutput'>log</a> for further details."
     ]
    }
   ],
   "source": [
    "# Add the root directory to the Python path\n",
    "sys.path.append(\"/workspaces/kg-ylrust/\")\n",
    "\n",
    "# Import the local modules\n",
    "from src.dataset import CropDataset\n",
    "from src.checks import single_pass_clf\n",
    "from src.helper import set_seeds"
   ]
  },
  {
   "cell_type": "markdown",
   "metadata": {},
   "source": [
    "Simple baseline model\n",
    "- Resnet18\n",
    "- no major data augmentations\n",
    "- sigfigs\n",
    "- random seeds"
   ]
  },
  {
   "cell_type": "code",
   "execution_count": 5,
   "metadata": {},
   "outputs": [
    {
     "data": {
      "text/plain": [
       "'cpu'"
      ]
     },
     "execution_count": 5,
     "metadata": {},
     "output_type": "execute_result"
    }
   ],
   "source": [
    "device = \"cuda\" if torch.cuda.is_available() else \"cpu\"\n",
    "device"
   ]
  },
  {
   "cell_type": "code",
   "execution_count": 6,
   "metadata": {},
   "outputs": [],
   "source": [
    "# Model definitions\n",
    "weights = torchvision.models.ResNet18_Weights.DEFAULT\n",
    "model_rgb = torchvision.models.resnet18(weights=weights).to(device)\n",
    "auto_transforms = weights.transforms()"
   ]
  },
  {
   "cell_type": "markdown",
   "metadata": {},
   "source": [
    "Create datasets and datafolders"
   ]
  },
  {
   "cell_type": "code",
   "execution_count": 8,
   "metadata": {},
   "outputs": [
    {
     "ename": "NameError",
     "evalue": "name 'CropDataset' is not defined",
     "output_type": "error",
     "traceback": [
      "\u001b[0;31m---------------------------------------------------------------------------\u001b[0m",
      "\u001b[0;31mNameError\u001b[0m                                 Traceback (most recent call last)",
      "Cell \u001b[0;32mIn[8], line 5\u001b[0m\n\u001b[1;32m      1\u001b[0m \u001b[38;5;66;03m### Dataset does the following:\u001b[39;00m\n\u001b[1;32m      2\u001b[0m \u001b[38;5;66;03m# Take a folder of .tif files.\u001b[39;00m\n\u001b[1;32m      3\u001b[0m \u001b[38;5;66;03m# Class is defined in higher level.\u001b[39;00m\n\u001b[1;32m      4\u001b[0m \u001b[38;5;66;03m# .tif files are combined into a single rgb image.\u001b[39;00m\n\u001b[0;32m----> 5\u001b[0m train_dataset \u001b[38;5;241m=\u001b[39m \u001b[43mCropDataset\u001b[49m(\n\u001b[1;32m      6\u001b[0m     constants\u001b[38;5;241m.\u001b[39mtrain_dir,\n\u001b[1;32m      7\u001b[0m     transform\u001b[38;5;241m=\u001b[39mauto_transforms,\n\u001b[1;32m      8\u001b[0m     bands\u001b[38;5;241m=\u001b[39m\u001b[38;5;124m\"\u001b[39m\u001b[38;5;124mrgb\u001b[39m\u001b[38;5;124m\"\u001b[39m,\n\u001b[1;32m      9\u001b[0m )\n\u001b[1;32m     10\u001b[0m val_dataset \u001b[38;5;241m=\u001b[39m CropDataset(\n\u001b[1;32m     11\u001b[0m     constants\u001b[38;5;241m.\u001b[39mvalidation_dir,\n\u001b[1;32m     12\u001b[0m     transform\u001b[38;5;241m=\u001b[39mauto_transforms,\n\u001b[1;32m     13\u001b[0m     bands\u001b[38;5;241m=\u001b[39m\u001b[38;5;124m\"\u001b[39m\u001b[38;5;124mrgb\u001b[39m\u001b[38;5;124m\"\u001b[39m,\n\u001b[1;32m     14\u001b[0m )\n\u001b[1;32m     16\u001b[0m \u001b[38;5;66;03m# Create data loaders\u001b[39;00m\n",
      "\u001b[0;31mNameError\u001b[0m: name 'CropDataset' is not defined"
     ]
    }
   ],
   "source": [
    "### Dataset does the following:\n",
    "# Take a folder of .tif files.\n",
    "# Class is defined in higher level.\n",
    "# .tif files are combined into a single rgb image.\n",
    "train_dataset = CropDataset(\n",
    "    constants.train_dir,\n",
    "    transform=auto_transforms,\n",
    "    bands=\"rgb\",\n",
    ")\n",
    "val_dataset = CropDataset(\n",
    "    constants.validation_dir,\n",
    "    transform=auto_transforms,\n",
    "    bands=\"rgb\",\n",
    ")\n",
    "\n",
    "# Create data loaders\n",
    "train_loader = DataLoader(\n",
    "    train_dataset,\n",
    "    batch_size=32,\n",
    "    shuffle=True,\n",
    "    num_workers=1,\n",
    "    pin_memory=True,\n",
    "    persistent_workers=True,\n",
    ")\n",
    "val_loader = DataLoader(\n",
    "    val_dataset,\n",
    "    batch_size=32,\n",
    "    shuffle=False,\n",
    "    num_workers=1,\n",
    "    pin_memory=True,\n",
    "    persistent_workers=True,\n",
    ")\n",
    "\n",
    "# Quick check\n",
    "for images, labels in train_loader:\n",
    "    print(images.shape)  # Should be [batch_size, 3, H, W]\n",
    "    print(labels)  # Should be a list of crop types\n",
    "    break"
   ]
  },
  {
   "cell_type": "markdown",
   "metadata": {},
   "source": [
    "Get ready for Transfer Learning"
   ]
  },
  {
   "cell_type": "code",
   "execution_count": 15,
   "metadata": {},
   "outputs": [],
   "source": [
    "# Freeze earlier layers\n",
    "for param in model_rgb.parameters():\n",
    "    param.requires_grad = False\n",
    "\n",
    "# Set the manual seeds\n",
    "set_seeds()\n",
    "\n",
    "# Get the length of class_names (one output unit for each class)\n",
    "class_names = set(labels)\n",
    "output_shape = len(class_names)\n",
    "\n",
    "# Recreate the classifier layer and seed it to the target device\n",
    "model_rgb.fc = torch.nn.Linear(\n",
    "    in_features=model_rgb.fc.in_features,\n",
    "    out_features=output_shape,  # same number of output units as our number of classes\n",
    ").to(device)\n",
    "\n",
    "for param in model_rgb.fc.parameters():\n",
    "    param.requires_grad = True"
   ]
  },
  {
   "cell_type": "code",
   "execution_count": 16,
   "metadata": {},
   "outputs": [
    {
     "data": {
      "text/plain": [
       "========================================================================================================================\n",
       "Layer (type (var_name))                  Input Shape          Output Shape         Param #              Trainable\n",
       "========================================================================================================================\n",
       "ResNet (ResNet)                          [32, 3, 224, 224]    [32, 4]              --                   Partial\n",
       "├─Conv2d (conv1)                         [32, 3, 224, 224]    [32, 64, 112, 112]   (9,408)              False\n",
       "├─BatchNorm2d (bn1)                      [32, 64, 112, 112]   [32, 64, 112, 112]   (128)                False\n",
       "├─ReLU (relu)                            [32, 64, 112, 112]   [32, 64, 112, 112]   --                   --\n",
       "├─MaxPool2d (maxpool)                    [32, 64, 112, 112]   [32, 64, 56, 56]     --                   --\n",
       "├─Sequential (layer1)                    [32, 64, 56, 56]     [32, 64, 56, 56]     --                   False\n",
       "│    └─BasicBlock (0)                    [32, 64, 56, 56]     [32, 64, 56, 56]     --                   False\n",
       "│    │    └─Conv2d (conv1)               [32, 64, 56, 56]     [32, 64, 56, 56]     (36,864)             False\n",
       "│    │    └─BatchNorm2d (bn1)            [32, 64, 56, 56]     [32, 64, 56, 56]     (128)                False\n",
       "│    │    └─ReLU (relu)                  [32, 64, 56, 56]     [32, 64, 56, 56]     --                   --\n",
       "│    │    └─Conv2d (conv2)               [32, 64, 56, 56]     [32, 64, 56, 56]     (36,864)             False\n",
       "│    │    └─BatchNorm2d (bn2)            [32, 64, 56, 56]     [32, 64, 56, 56]     (128)                False\n",
       "│    │    └─ReLU (relu)                  [32, 64, 56, 56]     [32, 64, 56, 56]     --                   --\n",
       "│    └─BasicBlock (1)                    [32, 64, 56, 56]     [32, 64, 56, 56]     --                   False\n",
       "│    │    └─Conv2d (conv1)               [32, 64, 56, 56]     [32, 64, 56, 56]     (36,864)             False\n",
       "│    │    └─BatchNorm2d (bn1)            [32, 64, 56, 56]     [32, 64, 56, 56]     (128)                False\n",
       "│    │    └─ReLU (relu)                  [32, 64, 56, 56]     [32, 64, 56, 56]     --                   --\n",
       "│    │    └─Conv2d (conv2)               [32, 64, 56, 56]     [32, 64, 56, 56]     (36,864)             False\n",
       "│    │    └─BatchNorm2d (bn2)            [32, 64, 56, 56]     [32, 64, 56, 56]     (128)                False\n",
       "│    │    └─ReLU (relu)                  [32, 64, 56, 56]     [32, 64, 56, 56]     --                   --\n",
       "├─Sequential (layer2)                    [32, 64, 56, 56]     [32, 128, 28, 28]    --                   False\n",
       "│    └─BasicBlock (0)                    [32, 64, 56, 56]     [32, 128, 28, 28]    --                   False\n",
       "│    │    └─Conv2d (conv1)               [32, 64, 56, 56]     [32, 128, 28, 28]    (73,728)             False\n",
       "│    │    └─BatchNorm2d (bn1)            [32, 128, 28, 28]    [32, 128, 28, 28]    (256)                False\n",
       "│    │    └─ReLU (relu)                  [32, 128, 28, 28]    [32, 128, 28, 28]    --                   --\n",
       "│    │    └─Conv2d (conv2)               [32, 128, 28, 28]    [32, 128, 28, 28]    (147,456)            False\n",
       "│    │    └─BatchNorm2d (bn2)            [32, 128, 28, 28]    [32, 128, 28, 28]    (256)                False\n",
       "│    │    └─Sequential (downsample)      [32, 64, 56, 56]     [32, 128, 28, 28]    (8,448)              False\n",
       "│    │    └─ReLU (relu)                  [32, 128, 28, 28]    [32, 128, 28, 28]    --                   --\n",
       "│    └─BasicBlock (1)                    [32, 128, 28, 28]    [32, 128, 28, 28]    --                   False\n",
       "│    │    └─Conv2d (conv1)               [32, 128, 28, 28]    [32, 128, 28, 28]    (147,456)            False\n",
       "│    │    └─BatchNorm2d (bn1)            [32, 128, 28, 28]    [32, 128, 28, 28]    (256)                False\n",
       "│    │    └─ReLU (relu)                  [32, 128, 28, 28]    [32, 128, 28, 28]    --                   --\n",
       "│    │    └─Conv2d (conv2)               [32, 128, 28, 28]    [32, 128, 28, 28]    (147,456)            False\n",
       "│    │    └─BatchNorm2d (bn2)            [32, 128, 28, 28]    [32, 128, 28, 28]    (256)                False\n",
       "│    │    └─ReLU (relu)                  [32, 128, 28, 28]    [32, 128, 28, 28]    --                   --\n",
       "├─Sequential (layer3)                    [32, 128, 28, 28]    [32, 256, 14, 14]    --                   False\n",
       "│    └─BasicBlock (0)                    [32, 128, 28, 28]    [32, 256, 14, 14]    --                   False\n",
       "│    │    └─Conv2d (conv1)               [32, 128, 28, 28]    [32, 256, 14, 14]    (294,912)            False\n",
       "│    │    └─BatchNorm2d (bn1)            [32, 256, 14, 14]    [32, 256, 14, 14]    (512)                False\n",
       "│    │    └─ReLU (relu)                  [32, 256, 14, 14]    [32, 256, 14, 14]    --                   --\n",
       "│    │    └─Conv2d (conv2)               [32, 256, 14, 14]    [32, 256, 14, 14]    (589,824)            False\n",
       "│    │    └─BatchNorm2d (bn2)            [32, 256, 14, 14]    [32, 256, 14, 14]    (512)                False\n",
       "│    │    └─Sequential (downsample)      [32, 128, 28, 28]    [32, 256, 14, 14]    (33,280)             False\n",
       "│    │    └─ReLU (relu)                  [32, 256, 14, 14]    [32, 256, 14, 14]    --                   --\n",
       "│    └─BasicBlock (1)                    [32, 256, 14, 14]    [32, 256, 14, 14]    --                   False\n",
       "│    │    └─Conv2d (conv1)               [32, 256, 14, 14]    [32, 256, 14, 14]    (589,824)            False\n",
       "│    │    └─BatchNorm2d (bn1)            [32, 256, 14, 14]    [32, 256, 14, 14]    (512)                False\n",
       "│    │    └─ReLU (relu)                  [32, 256, 14, 14]    [32, 256, 14, 14]    --                   --\n",
       "│    │    └─Conv2d (conv2)               [32, 256, 14, 14]    [32, 256, 14, 14]    (589,824)            False\n",
       "│    │    └─BatchNorm2d (bn2)            [32, 256, 14, 14]    [32, 256, 14, 14]    (512)                False\n",
       "│    │    └─ReLU (relu)                  [32, 256, 14, 14]    [32, 256, 14, 14]    --                   --\n",
       "├─Sequential (layer4)                    [32, 256, 14, 14]    [32, 512, 7, 7]      --                   False\n",
       "│    └─BasicBlock (0)                    [32, 256, 14, 14]    [32, 512, 7, 7]      --                   False\n",
       "│    │    └─Conv2d (conv1)               [32, 256, 14, 14]    [32, 512, 7, 7]      (1,179,648)          False\n",
       "│    │    └─BatchNorm2d (bn1)            [32, 512, 7, 7]      [32, 512, 7, 7]      (1,024)              False\n",
       "│    │    └─ReLU (relu)                  [32, 512, 7, 7]      [32, 512, 7, 7]      --                   --\n",
       "│    │    └─Conv2d (conv2)               [32, 512, 7, 7]      [32, 512, 7, 7]      (2,359,296)          False\n",
       "│    │    └─BatchNorm2d (bn2)            [32, 512, 7, 7]      [32, 512, 7, 7]      (1,024)              False\n",
       "│    │    └─Sequential (downsample)      [32, 256, 14, 14]    [32, 512, 7, 7]      (132,096)            False\n",
       "│    │    └─ReLU (relu)                  [32, 512, 7, 7]      [32, 512, 7, 7]      --                   --\n",
       "│    └─BasicBlock (1)                    [32, 512, 7, 7]      [32, 512, 7, 7]      --                   False\n",
       "│    │    └─Conv2d (conv1)               [32, 512, 7, 7]      [32, 512, 7, 7]      (2,359,296)          False\n",
       "│    │    └─BatchNorm2d (bn1)            [32, 512, 7, 7]      [32, 512, 7, 7]      (1,024)              False\n",
       "│    │    └─ReLU (relu)                  [32, 512, 7, 7]      [32, 512, 7, 7]      --                   --\n",
       "│    │    └─Conv2d (conv2)               [32, 512, 7, 7]      [32, 512, 7, 7]      (2,359,296)          False\n",
       "│    │    └─BatchNorm2d (bn2)            [32, 512, 7, 7]      [32, 512, 7, 7]      (1,024)              False\n",
       "│    │    └─ReLU (relu)                  [32, 512, 7, 7]      [32, 512, 7, 7]      --                   --\n",
       "├─AdaptiveAvgPool2d (avgpool)            [32, 512, 7, 7]      [32, 512, 1, 1]      --                   --\n",
       "├─Linear (fc)                            [32, 512]            [32, 4]              2,052                True\n",
       "========================================================================================================================\n",
       "Total params: 11,178,564\n",
       "Trainable params: 2,052\n",
       "Non-trainable params: 11,176,512\n",
       "Total mult-adds (G): 58.03\n",
       "========================================================================================================================\n",
       "Input size (MB): 19.27\n",
       "Forward/backward pass size (MB): 1271.66\n",
       "Params size (MB): 44.71\n",
       "Estimated Total Size (MB): 1335.64\n",
       "========================================================================================================================"
      ]
     },
     "execution_count": 16,
     "metadata": {},
     "output_type": "execute_result"
    }
   ],
   "source": [
    "summary(\n",
    "    model=model_rgb,\n",
    "    input_size=(32, 3, 224, 224),  # make sure this is \"input_size\", not \"input_shape\"\n",
    "    # col_names=[\"input_size\"], # uncomment for smaller output\n",
    "    col_names=[\"input_size\", \"output_size\", \"num_params\", \"trainable\"],\n",
    "    col_width=20,\n",
    "    row_settings=[\"var_names\"],\n",
    ")"
   ]
  },
  {
   "cell_type": "markdown",
   "metadata": {},
   "source": [
    "Check 1: Test Shapes Input & Output\n",
    "- Forward pass on a single image "
   ]
  },
  {
   "cell_type": "code",
   "execution_count": 17,
   "metadata": {},
   "outputs": [
    {
     "name": "stdout",
     "output_type": "stream",
     "text": [
      "Single image shape: torch.Size([1, 3, 224, 224])\n",
      "\n",
      "Output logits:\n",
      "tensor([[ 0.0777, -0.4661, -0.5256, -0.1546]])\n",
      "\n",
      "Output prediction probabilities:\n",
      "tensor([[0.3424, 0.1988, 0.1873, 0.2714]])\n",
      "\n",
      "Output prediction label:\n",
      "tensor([0])\n",
      "\n",
      "Actual label:\n",
      "maize\n"
     ]
    },
    {
     "ename": "",
     "evalue": "",
     "output_type": "error",
     "traceback": [
      "\u001b[1;31mThe Kernel crashed while executing code in the current cell or a previous cell. \n",
      "\u001b[1;31mPlease review the code in the cell(s) to identify a possible cause of the failure. \n",
      "\u001b[1;31mClick <a href='https://aka.ms/vscodeJupyterKernelCrash'>here</a> for more info. \n",
      "\u001b[1;31mView Jupyter <a href='command:jupyter.viewOutput'>log</a> for further details."
     ]
    }
   ],
   "source": [
    "single_pass_clf(dataloader=train_loader, model=model_rgb, device=device)"
   ]
  },
  {
   "cell_type": "markdown",
   "metadata": {},
   "source": []
  },
  {
   "cell_type": "code",
   "execution_count": null,
   "metadata": {},
   "outputs": [],
   "source": [
    "TODO: \n",
    "- add save_model function\n",
    "- add naming parameters\n",
    "\n",
    "# 8. Create a new loss and optimizer for every model\n",
    "loss_fn = nn.CrossEntropyLoss()\n",
    "optimizer = torch.optim.Adam(params=model.parameters(), lr=0.001)\n",
    "\n",
    "# 9. Train target model with target dataloaders and track experiments\n",
    "train(model=model_rgb,\n",
    "        train_dataloader=train_dataloader,\n",
    "        test_dataloader=test_dataloader,\n",
    "        optimizer=optimizer,\n",
    "        loss_fn=loss_fn,\n",
    "        epochs=epochs,\n",
    "        device=device,\n",
    "        writer=create_writer(experiment_name='RGB',\n",
    "                            model_name='Resnet18-ImageNet',\n",
    "                            extra=f\"{epochs}_epochs\"))\n",
    "\n",
    "# 10. Save the model to file so we can get back the best model\n",
    "save_filepath = f\"{model_name}_{dataloader_name}_{epochs}_epochs.pth\"\n",
    "save_model(model=model_rgb,\n",
    "            target_dir=\"models\",\n",
    "            model_name=save_filepath)"
   ]
  },
  {
   "cell_type": "markdown",
   "metadata": {},
   "source": [
    "1) Build base\n",
    "\n",
    "2) Build EarlyStopper\n",
    "\n",
    "3) Build StatifiedKFold"
   ]
  }
 ],
 "metadata": {
  "kernelspec": {
   "display_name": "base",
   "language": "python",
   "name": "python3"
  },
  "language_info": {
   "codemirror_mode": {
    "name": "ipython",
    "version": 3
   },
   "file_extension": ".py",
   "mimetype": "text/x-python",
   "name": "python",
   "nbconvert_exporter": "python",
   "pygments_lexer": "ipython3",
   "version": "3.10.13"
  }
 },
 "nbformat": 4,
 "nbformat_minor": 2
}
