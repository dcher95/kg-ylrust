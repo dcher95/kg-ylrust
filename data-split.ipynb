{
 "cells": [
  {
   "cell_type": "code",
   "execution_count": 156,
   "metadata": {},
   "outputs": [
    {
     "name": "stdout",
     "output_type": "stream",
     "text": [
      "The jupyter_black extension is already loaded. To reload it, use:\n",
      "  %reload_ext jupyter_black\n"
     ]
    }
   ],
   "source": [
    "%load_ext jupyter_black"
   ]
  },
  {
   "cell_type": "code",
   "execution_count": 157,
   "metadata": {},
   "outputs": [
    {
     "name": "stdout",
     "output_type": "stream",
     "text": [
      "The autoreload extension is already loaded. To reload it, use:\n",
      "  %reload_ext autoreload\n"
     ]
    }
   ],
   "source": [
    "%load_ext autoreload\n",
    "%autoreload 2"
   ]
  },
  {
   "cell_type": "markdown",
   "metadata": {},
   "source": [
    "# Split into training, validation and testing\n",
    "- partition by geography"
   ]
  },
  {
   "cell_type": "code",
   "execution_count": 158,
   "metadata": {},
   "outputs": [],
   "source": [
    "from src.utils import (\n",
    "    count_subfolders,\n",
    "    create_crop_classification_df,\n",
    "    find_duplicate_plot_ids,\n",
    "    assign_holdout_plot_ids,\n",
    "    move_holdout_files,\n",
    "    remove_empty_folders\n",
    ")\n",
    "import pandas as pd"
   ]
  },
  {
   "cell_type": "code",
   "execution_count": 159,
   "metadata": {},
   "outputs": [
    {
     "data": {
      "text/html": [
       "<div>\n",
       "<style scoped>\n",
       "    .dataframe tbody tr th:only-of-type {\n",
       "        vertical-align: middle;\n",
       "    }\n",
       "\n",
       "    .dataframe tbody tr th {\n",
       "        vertical-align: top;\n",
       "    }\n",
       "\n",
       "    .dataframe thead th {\n",
       "        text-align: right;\n",
       "    }\n",
       "</style>\n",
       "<table border=\"1\" class=\"dataframe\">\n",
       "  <thead>\n",
       "    <tr style=\"text-align: right;\">\n",
       "      <th></th>\n",
       "      <th>Grain</th>\n",
       "      <th>Number of Plots</th>\n",
       "      <th>Number of Photos</th>\n",
       "    </tr>\n",
       "  </thead>\n",
       "  <tbody>\n",
       "    <tr>\n",
       "      <th>0</th>\n",
       "      <td>Maize</td>\n",
       "      <td>163</td>\n",
       "      <td>715</td>\n",
       "    </tr>\n",
       "    <tr>\n",
       "      <th>1</th>\n",
       "      <td>Rice</td>\n",
       "      <td>196</td>\n",
       "      <td>880</td>\n",
       "    </tr>\n",
       "    <tr>\n",
       "      <th>2</th>\n",
       "      <td>Soybean</td>\n",
       "      <td>233</td>\n",
       "      <td>1065</td>\n",
       "    </tr>\n",
       "    <tr>\n",
       "      <th>3</th>\n",
       "      <td>Wheat</td>\n",
       "      <td>140</td>\n",
       "      <td>600</td>\n",
       "    </tr>\n",
       "  </tbody>\n",
       "</table>\n",
       "</div>"
      ],
      "text/plain": [
       "     Grain  Number of Plots  Number of Photos\n",
       "0    Maize              163               715\n",
       "1     Rice              196               880\n",
       "2  Soybean              233              1065\n",
       "3    Wheat              140               600"
      ]
     },
     "execution_count": 159,
     "metadata": {},
     "output_type": "execute_result"
    }
   ],
   "source": [
    "# how many images in each crop type in training?\n",
    "base_path = (\n",
    "    \"./data/input/beyond-visible-spectrum-ai-for-agriculture-2023-p2/share/train/\"\n",
    ")\n",
    "maize_path = f\"{base_path}maize\"\n",
    "rice_path = f\"{base_path}rice\"\n",
    "soybean_path = f\"{base_path}soybean\"\n",
    "wheat_path = f\"{base_path}wheat\"\n",
    "\n",
    "# Count plots\n",
    "maize_plots = count_subfolders(maize_path)\n",
    "rice_plots = count_subfolders(rice_path)\n",
    "soybean_plots = count_subfolders(soybean_path)\n",
    "wheat_plots = count_subfolders(wheat_path)\n",
    "\n",
    "# Count photos (assuming photos are in subfolders of plots)\n",
    "maize_photos = count_subfolders(maize_path, depth=2)\n",
    "rice_photos = count_subfolders(rice_path, depth=2)\n",
    "soybean_photos = count_subfolders(soybean_path, depth=2)\n",
    "wheat_photos = count_subfolders(wheat_path, depth=2)\n",
    "\n",
    "# Create DataFrame\n",
    "data = {\n",
    "    \"Grain\": [\"Maize\", \"Rice\", \"Soybean\", \"Wheat\"],\n",
    "    \"Number of Plots\": [maize_plots, rice_plots, soybean_plots, wheat_plots],\n",
    "    \"Number of Photos\": [maize_photos, rice_photos, soybean_photos, wheat_photos],\n",
    "}\n",
    "\n",
    "pd.DataFrame(data)"
   ]
  },
  {
   "cell_type": "code",
   "execution_count": 169,
   "metadata": {},
   "outputs": [],
   "source": [
    "df = create_crop_classification_df(\n",
    "    \"./data/input/beyond-visible-spectrum-ai-for-agriculture-2023-p2/share/train\"\n",
    ")"
   ]
  },
  {
   "cell_type": "code",
   "execution_count": 170,
   "metadata": {},
   "outputs": [
    {
     "name": "stdout",
     "output_type": "stream",
     "text": [
      "No Plot IDs found in multiple crops.\n"
     ]
    }
   ],
   "source": [
    "# Any plots have multiple crops classified?\n",
    "find_duplicate_plot_ids(df)"
   ]
  },
  {
   "cell_type": "code",
   "execution_count": 171,
   "metadata": {},
   "outputs": [
    {
     "data": {
      "text/html": [
       "<div>\n",
       "<style scoped>\n",
       "    .dataframe tbody tr th:only-of-type {\n",
       "        vertical-align: middle;\n",
       "    }\n",
       "\n",
       "    .dataframe tbody tr th {\n",
       "        vertical-align: top;\n",
       "    }\n",
       "\n",
       "    .dataframe thead th {\n",
       "        text-align: right;\n",
       "    }\n",
       "</style>\n",
       "<table border=\"1\" class=\"dataframe\">\n",
       "  <thead>\n",
       "    <tr style=\"text-align: right;\">\n",
       "      <th></th>\n",
       "      <th>File Path</th>\n",
       "      <th>Crop</th>\n",
       "      <th>Plot ID</th>\n",
       "      <th>Date</th>\n",
       "      <th>Holdout</th>\n",
       "    </tr>\n",
       "  </thead>\n",
       "  <tbody>\n",
       "    <tr>\n",
       "      <th>count</th>\n",
       "      <td>2528</td>\n",
       "      <td>2528</td>\n",
       "      <td>2528</td>\n",
       "      <td>2528</td>\n",
       "      <td>2528</td>\n",
       "    </tr>\n",
       "    <tr>\n",
       "      <th>unique</th>\n",
       "      <td>2528</td>\n",
       "      <td>4</td>\n",
       "      <td>732</td>\n",
       "      <td>480</td>\n",
       "      <td>2</td>\n",
       "    </tr>\n",
       "    <tr>\n",
       "      <th>top</th>\n",
       "      <td>./data/input/beyond-visible-spectrum-ai-for-ag...</td>\n",
       "      <td>soybean</td>\n",
       "      <td>000919</td>\n",
       "      <td>20201124</td>\n",
       "      <td>False</td>\n",
       "    </tr>\n",
       "    <tr>\n",
       "      <th>freq</th>\n",
       "      <td>1</td>\n",
       "      <td>832</td>\n",
       "      <td>4</td>\n",
       "      <td>62</td>\n",
       "      <td>2039</td>\n",
       "    </tr>\n",
       "  </tbody>\n",
       "</table>\n",
       "</div>"
      ],
      "text/plain": [
       "                                                File Path     Crop Plot ID  \\\n",
       "count                                                2528     2528    2528   \n",
       "unique                                               2528        4     732   \n",
       "top     ./data/input/beyond-visible-spectrum-ai-for-ag...  soybean  000919   \n",
       "freq                                                    1      832       4   \n",
       "\n",
       "            Date Holdout  \n",
       "count       2528    2528  \n",
       "unique       480       2  \n",
       "top     20201124   False  \n",
       "freq          62    2039  "
      ]
     },
     "execution_count": 171,
     "metadata": {},
     "output_type": "execute_result"
    }
   ],
   "source": [
    "# randomly split by location. Move 20% to `testing`\n",
    "df = assign_holdout_plot_ids(df)\n",
    "df.describe()"
   ]
  },
  {
   "cell_type": "code",
   "execution_count": 180,
   "metadata": {},
   "outputs": [
    {
     "ename": "FileNotFoundError",
     "evalue": "[Errno 2] No such file or directory: './data/input/beyond-visible-spectrum-ai-for-agriculture-2023-p2/share/train/soybean/001059/20201205T094401_20201205T094357_T34TDR'",
     "output_type": "error",
     "traceback": [
      "\u001b[0;31m---------------------------------------------------------------------------\u001b[0m",
      "\u001b[0;31mFileNotFoundError\u001b[0m                         Traceback (most recent call last)",
      "Cell \u001b[0;32mIn[180], line 2\u001b[0m\n\u001b[1;32m      1\u001b[0m \u001b[38;5;66;03m# Does not work again as files have been moved (until re-downloaded from beginning)\u001b[39;00m\n\u001b[0;32m----> 2\u001b[0m updated_df \u001b[38;5;241m=\u001b[39m \u001b[43mmove_holdout_files\u001b[49m\u001b[43m(\u001b[49m\n\u001b[1;32m      3\u001b[0m \u001b[43m    \u001b[49m\u001b[43mdf\u001b[49m\u001b[43m,\u001b[49m\n\u001b[1;32m      4\u001b[0m \u001b[43m    \u001b[49m\u001b[43mnew_base_path\u001b[49m\u001b[38;5;241;43m=\u001b[39;49m\u001b[38;5;124;43m\"\u001b[39;49m\u001b[38;5;124;43m./data/input/beyond-visible-spectrum-ai-for-agriculture-2023-p2/share/holdout\u001b[39;49m\u001b[38;5;124;43m\"\u001b[39;49m\u001b[43m,\u001b[49m\n\u001b[1;32m      5\u001b[0m \u001b[43m)\u001b[49m\n",
      "File \u001b[0;32m/workspaces/kg-ylrust/src/utils.py:147\u001b[0m, in \u001b[0;36mmove_holdout_files\u001b[0;34m(df, new_base_path)\u001b[0m\n\u001b[1;32m    143\u001b[0m \u001b[38;5;28;01mfor\u001b[39;00m index, row \u001b[38;5;129;01min\u001b[39;00m holdout_df\u001b[38;5;241m.\u001b[39miterrows():\n\u001b[1;32m    145\u001b[0m     new_path \u001b[38;5;241m=\u001b[39m os\u001b[38;5;241m.\u001b[39mpath\u001b[38;5;241m.\u001b[39mjoin(new_base_path, row[\u001b[38;5;124m\"\u001b[39m\u001b[38;5;124mPlot ID\u001b[39m\u001b[38;5;124m\"\u001b[39m] \u001b[38;5;241m+\u001b[39m \u001b[38;5;124m\"\u001b[39m\u001b[38;5;124m-\u001b[39m\u001b[38;5;124m\"\u001b[39m \u001b[38;5;241m+\u001b[39m row[\u001b[38;5;124m\"\u001b[39m\u001b[38;5;124mDate\u001b[39m\u001b[38;5;124m\"\u001b[39m])\n\u001b[0;32m--> 147\u001b[0m     \u001b[43mshutil\u001b[49m\u001b[38;5;241;43m.\u001b[39;49m\u001b[43mcopytree\u001b[49m\u001b[43m(\u001b[49m\n\u001b[1;32m    148\u001b[0m \u001b[43m        \u001b[49m\u001b[43mrow\u001b[49m\u001b[43m[\u001b[49m\u001b[38;5;124;43m\"\u001b[39;49m\u001b[38;5;124;43mFile Path\u001b[39;49m\u001b[38;5;124;43m\"\u001b[39;49m\u001b[43m]\u001b[49m\u001b[43m,\u001b[49m\n\u001b[1;32m    149\u001b[0m \u001b[43m        \u001b[49m\u001b[43mnew_path\u001b[49m\u001b[43m,\u001b[49m\n\u001b[1;32m    150\u001b[0m \u001b[43m        \u001b[49m\u001b[43mdirs_exist_ok\u001b[49m\u001b[38;5;241;43m=\u001b[39;49m\u001b[38;5;28;43;01mTrue\u001b[39;49;00m\u001b[43m,\u001b[49m\n\u001b[1;32m    151\u001b[0m \u001b[43m    \u001b[49m\u001b[43m)\u001b[49m\n\u001b[1;32m    152\u001b[0m     shutil\u001b[38;5;241m.\u001b[39mrmtree(row[\u001b[38;5;124m\"\u001b[39m\u001b[38;5;124mFile Path\u001b[39m\u001b[38;5;124m\"\u001b[39m])\n\u001b[1;32m    154\u001b[0m     \u001b[38;5;66;03m# Update the DataFrame with the new path\u001b[39;00m\n",
      "File \u001b[0;32m/opt/conda/lib/python3.10/shutil.py:557\u001b[0m, in \u001b[0;36mcopytree\u001b[0;34m(src, dst, symlinks, ignore, copy_function, ignore_dangling_symlinks, dirs_exist_ok)\u001b[0m\n\u001b[1;32m    518\u001b[0m \u001b[38;5;250m\u001b[39m\u001b[38;5;124;03m\"\"\"Recursively copy a directory tree and return the destination directory.\u001b[39;00m\n\u001b[1;32m    519\u001b[0m \n\u001b[1;32m    520\u001b[0m \u001b[38;5;124;03mIf exception(s) occur, an Error is raised with a list of reasons.\u001b[39;00m\n\u001b[0;32m   (...)\u001b[0m\n\u001b[1;32m    554\u001b[0m \u001b[38;5;124;03m`src` tree.\u001b[39;00m\n\u001b[1;32m    555\u001b[0m \u001b[38;5;124;03m\"\"\"\u001b[39;00m\n\u001b[1;32m    556\u001b[0m sys\u001b[38;5;241m.\u001b[39maudit(\u001b[38;5;124m\"\u001b[39m\u001b[38;5;124mshutil.copytree\u001b[39m\u001b[38;5;124m\"\u001b[39m, src, dst)\n\u001b[0;32m--> 557\u001b[0m \u001b[38;5;28;01mwith\u001b[39;00m \u001b[43mos\u001b[49m\u001b[38;5;241;43m.\u001b[39;49m\u001b[43mscandir\u001b[49m\u001b[43m(\u001b[49m\u001b[43msrc\u001b[49m\u001b[43m)\u001b[49m \u001b[38;5;28;01mas\u001b[39;00m itr:\n\u001b[1;32m    558\u001b[0m     entries \u001b[38;5;241m=\u001b[39m \u001b[38;5;28mlist\u001b[39m(itr)\n\u001b[1;32m    559\u001b[0m \u001b[38;5;28;01mreturn\u001b[39;00m _copytree(entries\u001b[38;5;241m=\u001b[39mentries, src\u001b[38;5;241m=\u001b[39msrc, dst\u001b[38;5;241m=\u001b[39mdst, symlinks\u001b[38;5;241m=\u001b[39msymlinks,\n\u001b[1;32m    560\u001b[0m                  ignore\u001b[38;5;241m=\u001b[39mignore, copy_function\u001b[38;5;241m=\u001b[39mcopy_function,\n\u001b[1;32m    561\u001b[0m                  ignore_dangling_symlinks\u001b[38;5;241m=\u001b[39mignore_dangling_symlinks,\n\u001b[1;32m    562\u001b[0m                  dirs_exist_ok\u001b[38;5;241m=\u001b[39mdirs_exist_ok)\n",
      "\u001b[0;31mFileNotFoundError\u001b[0m: [Errno 2] No such file or directory: './data/input/beyond-visible-spectrum-ai-for-agriculture-2023-p2/share/train/soybean/001059/20201205T094401_20201205T094357_T34TDR'"
     ]
    }
   ],
   "source": [
    "# Does not work again as files have been moved (until re-downloaded from beginning)\n",
    "updated_df = move_holdout_files(\n",
    "    df,\n",
    "    new_base_path=\"./data/input/beyond-visible-spectrum-ai-for-agriculture-2023-p2/share/holdout\",\n",
    ")"
   ]
  },
  {
   "cell_type": "code",
   "execution_count": null,
   "metadata": {},
   "outputs": [],
   "source": [
    "# remove empty folders\n",
    "remove_empty_folders(\n",
    "    \"./data/input/beyond-visible-spectrum-ai-for-agriculture-2023-p2/share/train\"\n",
    ")"
   ]
  },
  {
   "cell_type": "code",
   "execution_count": 178,
   "metadata": {},
   "outputs": [],
   "source": [
    "updated_df.to_csv(\n",
    "    \"./data/input/beyond-visible-spectrum-ai-for-agriculture-2023-p2/photo_crop_classification.csv\",\n",
    "    header=True,\n",
    ")"
   ]
  },
  {
   "cell_type": "code",
   "execution_count": 192,
   "metadata": {},
   "outputs": [
    {
     "data": {
      "text/html": [
       "<div>\n",
       "<style scoped>\n",
       "    .dataframe tbody tr th:only-of-type {\n",
       "        vertical-align: middle;\n",
       "    }\n",
       "\n",
       "    .dataframe tbody tr th {\n",
       "        vertical-align: top;\n",
       "    }\n",
       "\n",
       "    .dataframe thead th {\n",
       "        text-align: right;\n",
       "    }\n",
       "</style>\n",
       "<table border=\"1\" class=\"dataframe\">\n",
       "  <thead>\n",
       "    <tr style=\"text-align: right;\">\n",
       "      <th></th>\n",
       "      <th>Grain</th>\n",
       "      <th>Number of Plots</th>\n",
       "      <th>Number of Photos</th>\n",
       "    </tr>\n",
       "  </thead>\n",
       "  <tbody>\n",
       "    <tr>\n",
       "      <th>0</th>\n",
       "      <td>Maize</td>\n",
       "      <td>131</td>\n",
       "      <td>570</td>\n",
       "    </tr>\n",
       "    <tr>\n",
       "      <th>1</th>\n",
       "      <td>Rice</td>\n",
       "      <td>157</td>\n",
       "      <td>707</td>\n",
       "    </tr>\n",
       "    <tr>\n",
       "      <th>2</th>\n",
       "      <td>Soybean</td>\n",
       "      <td>187</td>\n",
       "      <td>863</td>\n",
       "    </tr>\n",
       "    <tr>\n",
       "      <th>3</th>\n",
       "      <td>Wheat</td>\n",
       "      <td>112</td>\n",
       "      <td>486</td>\n",
       "    </tr>\n",
       "  </tbody>\n",
       "</table>\n",
       "</div>"
      ],
      "text/plain": [
       "     Grain  Number of Plots  Number of Photos\n",
       "0    Maize              131               570\n",
       "1     Rice              157               707\n",
       "2  Soybean              187               863\n",
       "3    Wheat              112               486"
      ]
     },
     "execution_count": 192,
     "metadata": {},
     "output_type": "execute_result"
    }
   ],
   "source": [
    "# Now there should be 5868 images less in training. Those should be in holdout\n",
    "base_path = (\n",
    "    \"./data/input/beyond-visible-spectrum-ai-for-agriculture-2023-p2/share/train/\"\n",
    ")\n",
    "maize_path = f\"{base_path}maize\"\n",
    "rice_path = f\"{base_path}rice\"\n",
    "soybean_path = f\"{base_path}soybean\"\n",
    "wheat_path = f\"{base_path}wheat\"\n",
    "\n",
    "# Count plots\n",
    "maize_plots = count_subfolders(maize_path)\n",
    "rice_plots = count_subfolders(rice_path)\n",
    "soybean_plots = count_subfolders(soybean_path)\n",
    "wheat_plots = count_subfolders(wheat_path)\n",
    "\n",
    "# Count photos (assuming photos are in subfolders of plots)\n",
    "maize_photos = count_subfolders(maize_path, depth=2)\n",
    "rice_photos = count_subfolders(rice_path, depth=2)\n",
    "soybean_photos = count_subfolders(soybean_path, depth=2)\n",
    "wheat_photos = count_subfolders(wheat_path, depth=2)\n",
    "\n",
    "# Create DataFrame\n",
    "data = {\n",
    "    \"Grain\": [\"Maize\", \"Rice\", \"Soybean\", \"Wheat\"],\n",
    "    \"Number of Plots\": [maize_plots, rice_plots, soybean_plots, wheat_plots],\n",
    "    \"Number of Photos\": [maize_photos, rice_photos, soybean_photos, wheat_photos],\n",
    "}\n",
    "\n",
    "pd.DataFrame(data)"
   ]
  },
  {
   "cell_type": "code",
   "execution_count": 187,
   "metadata": {},
   "outputs": [
    {
     "data": {
      "text/plain": [
       "489"
      ]
     },
     "execution_count": 187,
     "metadata": {},
     "output_type": "execute_result"
    }
   ],
   "source": [
    "# The other photos should be in holdout\n",
    "holdout_path = (\n",
    "    \"./data/input/beyond-visible-spectrum-ai-for-agriculture-2023-p2/share/holdout/\"\n",
    ")\n",
    "count_subfolders(base_path)"
   ]
  }
 ],
 "metadata": {
  "kernelspec": {
   "display_name": "base",
   "language": "python",
   "name": "python3"
  },
  "language_info": {
   "codemirror_mode": {
    "name": "ipython",
    "version": 3
   },
   "file_extension": ".py",
   "mimetype": "text/x-python",
   "name": "python",
   "nbconvert_exporter": "python",
   "pygments_lexer": "ipython3",
   "version": "3.10.13"
  }
 },
 "nbformat": 4,
 "nbformat_minor": 2
}
