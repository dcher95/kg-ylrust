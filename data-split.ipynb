{
 "cells": [
  {
   "cell_type": "code",
   "execution_count": 2,
   "metadata": {},
   "outputs": [
    {
     "data": {
      "text/html": [
       "\n",
       "                <script type=\"application/javascript\" id=\"jupyter_black\">\n",
       "                (function() {\n",
       "                    if (window.IPython === undefined) {\n",
       "                        return\n",
       "                    }\n",
       "                    var msg = \"WARNING: it looks like you might have loaded \" +\n",
       "                        \"jupyter_black in a non-lab notebook with \" +\n",
       "                        \"`is_lab=True`. Please double check, and if \" +\n",
       "                        \"loading with `%load_ext` please review the README!\"\n",
       "                    console.log(msg)\n",
       "                    alert(msg)\n",
       "                })()\n",
       "                </script>\n",
       "                "
      ],
      "text/plain": [
       "<IPython.core.display.HTML object>"
      ]
     },
     "metadata": {},
     "output_type": "display_data"
    }
   ],
   "source": [
    "%load_ext jupyter_black"
   ]
  },
  {
   "cell_type": "code",
   "execution_count": 6,
   "metadata": {},
   "outputs": [
    {
     "name": "stdout",
     "output_type": "stream",
     "text": [
      "The autoreload extension is already loaded. To reload it, use:\n",
      "  %reload_ext autoreload\n"
     ]
    }
   ],
   "source": [
    "%load_ext autoreload\n",
    "%autoreload 2"
   ]
  },
  {
   "cell_type": "markdown",
   "metadata": {},
   "source": [
    "# Split into training, validation and testing\n",
    "- partition by geography"
   ]
  },
  {
   "cell_type": "code",
   "execution_count": 44,
   "metadata": {},
   "outputs": [],
   "source": [
    "from src.utils import (\n",
    "    count_subfolders,\n",
    "    create_crop_classification_df,\n",
    "    find_duplicate_plot_ids,\n",
    "    assign_holdout_plot_ids,\n",
    ")\n",
    "import pandas as pd"
   ]
  },
  {
   "cell_type": "code",
   "execution_count": 39,
   "metadata": {},
   "outputs": [
    {
     "data": {
      "text/html": [
       "<div>\n",
       "<style scoped>\n",
       "    .dataframe tbody tr th:only-of-type {\n",
       "        vertical-align: middle;\n",
       "    }\n",
       "\n",
       "    .dataframe tbody tr th {\n",
       "        vertical-align: top;\n",
       "    }\n",
       "\n",
       "    .dataframe thead th {\n",
       "        text-align: right;\n",
       "    }\n",
       "</style>\n",
       "<table border=\"1\" class=\"dataframe\">\n",
       "  <thead>\n",
       "    <tr style=\"text-align: right;\">\n",
       "      <th></th>\n",
       "      <th>Grain</th>\n",
       "      <th>Number of Plots</th>\n",
       "      <th>Number of Photos</th>\n",
       "    </tr>\n",
       "  </thead>\n",
       "  <tbody>\n",
       "    <tr>\n",
       "      <th>0</th>\n",
       "      <td>Maize</td>\n",
       "      <td>163</td>\n",
       "      <td>715</td>\n",
       "    </tr>\n",
       "    <tr>\n",
       "      <th>1</th>\n",
       "      <td>Rice</td>\n",
       "      <td>196</td>\n",
       "      <td>880</td>\n",
       "    </tr>\n",
       "    <tr>\n",
       "      <th>2</th>\n",
       "      <td>Soybean</td>\n",
       "      <td>233</td>\n",
       "      <td>1065</td>\n",
       "    </tr>\n",
       "    <tr>\n",
       "      <th>3</th>\n",
       "      <td>Wheat</td>\n",
       "      <td>140</td>\n",
       "      <td>600</td>\n",
       "    </tr>\n",
       "  </tbody>\n",
       "</table>\n",
       "</div>"
      ],
      "text/plain": [
       "     Grain  Number of Plots  Number of Photos\n",
       "0    Maize              163               715\n",
       "1     Rice              196               880\n",
       "2  Soybean              233              1065\n",
       "3    Wheat              140               600"
      ]
     },
     "execution_count": 39,
     "metadata": {},
     "output_type": "execute_result"
    }
   ],
   "source": [
    "# how many images in each crop type in training?\n",
    "base_path = (\n",
    "    \"./data/input/beyond-visible-spectrum-ai-for-agriculture-2023-p2/share/train/\"\n",
    ")\n",
    "maize_path = f\"{base_path}maize\"\n",
    "rice_path = f\"{base_path}rice\"\n",
    "soybean_path = f\"{base_path}soybean\"\n",
    "wheat_path = f\"{base_path}wheat\"\n",
    "\n",
    "# Count plots\n",
    "maize_plots = count_subfolders(maize_path)\n",
    "rice_plots = count_subfolders(rice_path)\n",
    "soybean_plots = count_subfolders(soybean_path)\n",
    "wheat_plots = count_subfolders(wheat_path)\n",
    "\n",
    "# Count photos (assuming photos are in subfolders of plots)\n",
    "maize_photos = count_subfolders(maize_path, depth=2)\n",
    "rice_photos = count_subfolders(rice_path, depth=2)\n",
    "soybean_photos = count_subfolders(soybean_path, depth=2)\n",
    "wheat_photos = count_subfolders(wheat_path, depth=2)\n",
    "\n",
    "# Create DataFrame\n",
    "data = {\n",
    "    \"Grain\": [\"Maize\", \"Rice\", \"Soybean\", \"Wheat\"],\n",
    "    \"Number of Plots\": [maize_plots, rice_plots, soybean_plots, wheat_plots],\n",
    "    \"Number of Photos\": [maize_photos, rice_photos, soybean_photos, wheat_photos],\n",
    "}\n",
    "\n",
    "pd.DataFrame(data)"
   ]
  },
  {
   "cell_type": "code",
   "execution_count": 41,
   "metadata": {},
   "outputs": [
    {
     "data": {
      "text/html": [
       "<div>\n",
       "<style scoped>\n",
       "    .dataframe tbody tr th:only-of-type {\n",
       "        vertical-align: middle;\n",
       "    }\n",
       "\n",
       "    .dataframe tbody tr th {\n",
       "        vertical-align: top;\n",
       "    }\n",
       "\n",
       "    .dataframe thead th {\n",
       "        text-align: right;\n",
       "    }\n",
       "</style>\n",
       "<table border=\"1\" class=\"dataframe\">\n",
       "  <thead>\n",
       "    <tr style=\"text-align: right;\">\n",
       "      <th></th>\n",
       "      <th>Crop</th>\n",
       "      <th>Plot ID</th>\n",
       "      <th>Date</th>\n",
       "      <th>Timestamp</th>\n",
       "      <th>Tile</th>\n",
       "      <th>Band</th>\n",
       "      <th>File Path</th>\n",
       "    </tr>\n",
       "  </thead>\n",
       "  <tbody>\n",
       "    <tr>\n",
       "      <th>0</th>\n",
       "      <td>soybean</td>\n",
       "      <td>000919</td>\n",
       "      <td>20201109T101239</td>\n",
       "      <td>20201109T101557</td>\n",
       "      <td>32TQQ</td>\n",
       "      <td>B8</td>\n",
       "      <td>soybean/000919/20201109T101239_20201109T101557...</td>\n",
       "    </tr>\n",
       "    <tr>\n",
       "      <th>1</th>\n",
       "      <td>soybean</td>\n",
       "      <td>000919</td>\n",
       "      <td>20201109T101239</td>\n",
       "      <td>20201109T101557</td>\n",
       "      <td>32TQQ</td>\n",
       "      <td>B9</td>\n",
       "      <td>soybean/000919/20201109T101239_20201109T101557...</td>\n",
       "    </tr>\n",
       "    <tr>\n",
       "      <th>2</th>\n",
       "      <td>soybean</td>\n",
       "      <td>000919</td>\n",
       "      <td>20201109T101239</td>\n",
       "      <td>20201109T101557</td>\n",
       "      <td>32TQQ</td>\n",
       "      <td>B8A</td>\n",
       "      <td>soybean/000919/20201109T101239_20201109T101557...</td>\n",
       "    </tr>\n",
       "    <tr>\n",
       "      <th>3</th>\n",
       "      <td>soybean</td>\n",
       "      <td>000919</td>\n",
       "      <td>20201109T101239</td>\n",
       "      <td>20201109T101557</td>\n",
       "      <td>32TQQ</td>\n",
       "      <td>B2</td>\n",
       "      <td>soybean/000919/20201109T101239_20201109T101557...</td>\n",
       "    </tr>\n",
       "    <tr>\n",
       "      <th>4</th>\n",
       "      <td>soybean</td>\n",
       "      <td>000919</td>\n",
       "      <td>20201109T101239</td>\n",
       "      <td>20201109T101557</td>\n",
       "      <td>32TQQ</td>\n",
       "      <td>B3</td>\n",
       "      <td>soybean/000919/20201109T101239_20201109T101557...</td>\n",
       "    </tr>\n",
       "  </tbody>\n",
       "</table>\n",
       "</div>"
      ],
      "text/plain": [
       "      Crop Plot ID             Date        Timestamp   Tile Band  \\\n",
       "0  soybean  000919  20201109T101239  20201109T101557  32TQQ   B8   \n",
       "1  soybean  000919  20201109T101239  20201109T101557  32TQQ   B9   \n",
       "2  soybean  000919  20201109T101239  20201109T101557  32TQQ  B8A   \n",
       "3  soybean  000919  20201109T101239  20201109T101557  32TQQ   B2   \n",
       "4  soybean  000919  20201109T101239  20201109T101557  32TQQ   B3   \n",
       "\n",
       "                                           File Path  \n",
       "0  soybean/000919/20201109T101239_20201109T101557...  \n",
       "1  soybean/000919/20201109T101239_20201109T101557...  \n",
       "2  soybean/000919/20201109T101239_20201109T101557...  \n",
       "3  soybean/000919/20201109T101239_20201109T101557...  \n",
       "4  soybean/000919/20201109T101239_20201109T101557...  "
      ]
     },
     "execution_count": 41,
     "metadata": {},
     "output_type": "execute_result"
    }
   ],
   "source": [
    "# Create csv with correct classifications\n",
    "df = create_crop_classification_df(\n",
    "    \"./data/input/beyond-visible-spectrum-ai-for-agriculture-2023-p2/share/train\"\n",
    ")\n",
    "df.to_csv(\n",
    "    \"./data/input/beyond-visible-spectrum-ai-for-agriculture-2023-p2/photo_crop_classification.csv\",\n",
    "    header=True,\n",
    ")\n",
    "df.head()"
   ]
  },
  {
   "cell_type": "code",
   "execution_count": 42,
   "metadata": {},
   "outputs": [
    {
     "name": "stdout",
     "output_type": "stream",
     "text": [
      "No Plot IDs found in multiple crops.\n"
     ]
    }
   ],
   "source": [
    "# Any plots have multiple crops classified?\n",
    "find_duplicate_plot_ids(df)"
   ]
  },
  {
   "cell_type": "code",
   "execution_count": 83,
   "metadata": {},
   "outputs": [
    {
     "data": {
      "text/html": [
       "<div>\n",
       "<style scoped>\n",
       "    .dataframe tbody tr th:only-of-type {\n",
       "        vertical-align: middle;\n",
       "    }\n",
       "\n",
       "    .dataframe tbody tr th {\n",
       "        vertical-align: top;\n",
       "    }\n",
       "\n",
       "    .dataframe thead th {\n",
       "        text-align: right;\n",
       "    }\n",
       "</style>\n",
       "<table border=\"1\" class=\"dataframe\">\n",
       "  <thead>\n",
       "    <tr style=\"text-align: right;\">\n",
       "      <th></th>\n",
       "      <th>Crop</th>\n",
       "      <th>Plot ID</th>\n",
       "      <th>Date</th>\n",
       "      <th>Timestamp</th>\n",
       "      <th>Tile</th>\n",
       "      <th>Band</th>\n",
       "      <th>File Path</th>\n",
       "      <th>Holdout</th>\n",
       "    </tr>\n",
       "  </thead>\n",
       "  <tbody>\n",
       "    <tr>\n",
       "      <th>0</th>\n",
       "      <td>soybean</td>\n",
       "      <td>000919</td>\n",
       "      <td>20201109T101239</td>\n",
       "      <td>20201109T101557</td>\n",
       "      <td>32TQQ</td>\n",
       "      <td>B8</td>\n",
       "      <td>soybean/000919/20201109T101239_20201109T101557...</td>\n",
       "      <td>False</td>\n",
       "    </tr>\n",
       "    <tr>\n",
       "      <th>1</th>\n",
       "      <td>soybean</td>\n",
       "      <td>000919</td>\n",
       "      <td>20201109T101239</td>\n",
       "      <td>20201109T101557</td>\n",
       "      <td>32TQQ</td>\n",
       "      <td>B9</td>\n",
       "      <td>soybean/000919/20201109T101239_20201109T101557...</td>\n",
       "      <td>False</td>\n",
       "    </tr>\n",
       "    <tr>\n",
       "      <th>2</th>\n",
       "      <td>soybean</td>\n",
       "      <td>000919</td>\n",
       "      <td>20201109T101239</td>\n",
       "      <td>20201109T101557</td>\n",
       "      <td>32TQQ</td>\n",
       "      <td>B8A</td>\n",
       "      <td>soybean/000919/20201109T101239_20201109T101557...</td>\n",
       "      <td>False</td>\n",
       "    </tr>\n",
       "    <tr>\n",
       "      <th>3</th>\n",
       "      <td>soybean</td>\n",
       "      <td>000919</td>\n",
       "      <td>20201109T101239</td>\n",
       "      <td>20201109T101557</td>\n",
       "      <td>32TQQ</td>\n",
       "      <td>B2</td>\n",
       "      <td>soybean/000919/20201109T101239_20201109T101557...</td>\n",
       "      <td>False</td>\n",
       "    </tr>\n",
       "    <tr>\n",
       "      <th>4</th>\n",
       "      <td>soybean</td>\n",
       "      <td>000919</td>\n",
       "      <td>20201109T101239</td>\n",
       "      <td>20201109T101557</td>\n",
       "      <td>32TQQ</td>\n",
       "      <td>B3</td>\n",
       "      <td>soybean/000919/20201109T101239_20201109T101557...</td>\n",
       "      <td>False</td>\n",
       "    </tr>\n",
       "  </tbody>\n",
       "</table>\n",
       "</div>"
      ],
      "text/plain": [
       "      Crop Plot ID             Date        Timestamp   Tile Band  \\\n",
       "0  soybean  000919  20201109T101239  20201109T101557  32TQQ   B8   \n",
       "1  soybean  000919  20201109T101239  20201109T101557  32TQQ   B9   \n",
       "2  soybean  000919  20201109T101239  20201109T101557  32TQQ  B8A   \n",
       "3  soybean  000919  20201109T101239  20201109T101557  32TQQ   B2   \n",
       "4  soybean  000919  20201109T101239  20201109T101557  32TQQ   B3   \n",
       "\n",
       "                                           File Path  Holdout  \n",
       "0  soybean/000919/20201109T101239_20201109T101557...    False  \n",
       "1  soybean/000919/20201109T101239_20201109T101557...    False  \n",
       "2  soybean/000919/20201109T101239_20201109T101557...    False  \n",
       "3  soybean/000919/20201109T101239_20201109T101557...    False  \n",
       "4  soybean/000919/20201109T101239_20201109T101557...    False  "
      ]
     },
     "execution_count": 83,
     "metadata": {},
     "output_type": "execute_result"
    }
   ],
   "source": [
    "# randomly split by location. Move 20% to `testing`\n",
    "df = assign_holdout_plot_ids(df)\n",
    "df.head()"
   ]
  },
  {
   "cell_type": "code",
   "execution_count": null,
   "metadata": {},
   "outputs": [],
   "source": [
    "# move half of training to `val` -- replace what's in there."
   ]
  }
 ],
 "metadata": {
  "kernelspec": {
   "display_name": "base",
   "language": "python",
   "name": "python3"
  },
  "language_info": {
   "codemirror_mode": {
    "name": "ipython",
    "version": 3
   },
   "file_extension": ".py",
   "mimetype": "text/x-python",
   "name": "python",
   "nbconvert_exporter": "python",
   "pygments_lexer": "ipython3",
   "version": "3.10.13"
  }
 },
 "nbformat": 4,
 "nbformat_minor": 2
}
